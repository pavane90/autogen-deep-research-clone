{
 "cells": [
  {
   "cell_type": "code",
   "execution_count": null,
   "id": "e2b32838",
   "metadata": {},
   "outputs": [],
   "source": "# ============================================\n# 1. 필요한 AutoGen 라이브러리 임포트\n# ============================================\n\n# RoundRobinGroupChat: 여러 에이전트가 순서대로 대화하는 그룹 채팅 시스템\n# - 에이전트들이 라운드 로빈 방식(순환)으로 차례대로 응답합니다\nfrom autogen_agentchat.teams import RoundRobinGroupChat\n\n# AssistantAgent: 특정 역할을 수행하는 AI 에이전트\n# - system_message를 통해 에이전트의 역할과 행동을 정의합니다\nfrom autogen_agentchat.agents import AssistantAgent\n\n# OpenAIChatCompletionClient: OpenAI API를 사용하여 LLM과 통신\n# - GPT 모델과의 연결을 담당합니다\nfrom autogen_ext.models.openai import OpenAIChatCompletionClient\n\n# 종료 조건 클래스들\n# - MaxMessageTermination: 최대 메시지 수에 도달하면 대화 종료\n# - TextMentionTermination: 특정 텍스트(예: \"TERMINATE\")가 나오면 대화 종료\nfrom autogen_agentchat.conditions import MaxMessageTermination, TextMentionTermination\n\n# Console: 대화 내용을 콘솔에 스트리밍으로 출력하는 UI\nfrom autogen_agentchat.ui import Console"
  },
  {
   "cell_type": "code",
   "execution_count": null,
   "id": "39e448ce",
   "metadata": {},
   "outputs": [],
   "source": "# ============================================\n# 2. LLM 모델 설정 및 에이전트 정의\n# ============================================\n\n# OpenAI GPT-4o-mini 모델 클라이언트 생성\n# - 모든 에이전트가 이 모델을 사용하여 응답을 생성합니다\nmodel = OpenAIChatCompletionClient(model=\"gpt-4o-mini\")\n\n# ----- 에이전트 1: ClarityAgent (명확성 전문가) -----\n# 역할: 이메일의 명확성과 간결함을 개선\n# - 모호한 표현 제거\n# - 중복 내용 삭제\n# - 문장을 명확하고 이해하기 쉽게 만들기\nclarity_agent = AssistantAgent(\n    \"ClarityAgent\",  # 에이전트 이름\n    model_client=model,  # 사용할 LLM 모델\n    system_message=\"\"\"You are an expert editor focused on clarity and simplicity. \n            Your job is to eliminate ambiguity, redundancy, and make every sentence crisp and clear. \n            Don't worry about persuasion or tone — just make the message easy to read and understand.\"\"\",\n)\n\n# ----- 에이전트 2: ToneAgent (톤 전문가) -----\n# 역할: 이메일의 감정적 톤과 전문성 조정\n# - 따뜻하고 자신감 있는 표현으로 변경\n# - 전문적이면서도 인간적인 느낌 유지\n# - 딱딱하거나 너무 캐주얼한 표현 조정\ntone_agent = AssistantAgent(\n    \"ToneAgent\",\n    model_client=model,\n    system_message=\"\"\"You are a communication coach focused on emotional tone and professionalism. \n            Your job is to make the email sound warm, confident, and human — while staying professional \n            and appropriate for the audience. Improve the emotional resonance, polish the phrasing, \n            and adjust any words that may come off as stiff, cold, or overly casual.\"\"\",\n)\n\n# ----- 에이전트 3: PersuasionAgent (설득 전문가) -----\n# 역할: 이메일의 설득력 향상\n# - 행동 심리학 기반의 설득 기법 적용\n# - 명확한 Call-to-Action (CTA) 추가\n# - 혜택 강조 및 약한 표현 제거\npersuasion_agent = AssistantAgent(\n    \"PersuasionAgent\",\n    model_client=model,\n    system_message=\"\"\"You are a persuasion expert trained in marketing, behavioral psychology, \n            and copywriting. Your job is to enhance the email's persuasive power: improve call to action, structure arguments, and emphasize benefits. Remove weak or passive language.\"\"\",\n)\n\n# ----- 에이전트 4: SynthesizerAgent (통합 전문가) -----\n# 역할: 이전 에이전트들의 제안을 하나로 통합\n# - 명확성, 톤, 설득력의 개선 사항을 모두 반영\n# - 일관성 있고 자연스러운 최종 초안 작성\n# - 전문적이고 효과적인 이메일로 완성\nsynthesizer_agent = AssistantAgent(\n    \"SynthesizerAgent\",\n    model_client=model,\n    system_message=\"\"\"You are an advanced email-writing specialist. Your role is to read all \n            prior agent responses and revisions, and then **synthesize the best ideas** into a unified, \n            polished draft of the email. Focus on: Integrating clarity, tone, and persuasion improvements; \n            Ensuring coherence, fluency, and a natural voice; Creating a version that feels professional, \n            effective, and readable.\"\"\",\n)\n\n# ----- 에이전트 5: CriticAgent (품질 평가 전문가) -----\n# 역할: 최종 이메일 품질 검증\n# - 명확성, 흐름, 전문적 톤, CTA 효과성 평가\n# - 문제가 있으면 구체적인 개선 제안 제공\n# - 전문적 기준을 충족하면 \"TERMINATE\"로 대화 종료\ncritic_agent = AssistantAgent(\n    \"CriticAgent\",\n    model_client=model,\n    system_message=\"\"\"You are an email quality evaluator. Your job is to perform a final review \n            of the synthesized email and determine if it meets professional standards. Review the email for: \n            Clarity and flow, appropriate professional tone, effective call-to-action, and overall coherence.\n            Be constructive but decisive. If the email has major flaws (unclear message, unprofessional tone, \n            or missing key elements), provide ONE specific improvement suggestion. If the email meets professional standards and communicates effectively, respond with 'The email meets professional standards.' followed by `TERMINATE` on a new line. You should only approve emails that are perfect enough for professional use, dont settle.\"\"\",\n)"
  },
  {
   "cell_type": "code",
   "execution_count": null,
   "id": "90e1af75",
   "metadata": {},
   "outputs": [],
   "source": "# ============================================\n# 3. 대화 종료 조건 설정\n# ============================================\n\n# 종료 조건 1: 텍스트 기반 종료\n# - CriticAgent가 \"TERMINATE\" 텍스트를 출력하면 대화가 종료됩니다\n# - 이메일이 전문적 기준을 충족했을 때 사용됩니다\ntext_termination = TextMentionTermination(\"TERMINATE\")\n\n# 종료 조건 2: 최대 메시지 수 제한\n# - 최대 30개의 메시지가 교환되면 대화가 자동으로 종료됩니다\n# - 무한 루프를 방지하기 위한 안전 장치입니다\nmax_messages_termination = MaxMessageTermination(max_messages=30)\n\n# 종료 조건 결합 (OR 연산)\n# - 두 조건 중 하나라도 만족하면 대화가 종료됩니다\n# - \"TERMINATE\"가 나오거나 OR 30개 메시지에 도달하면 종료\ntermination_condition = text_termination | max_messages_termination"
  },
  {
   "cell_type": "code",
   "execution_count": null,
   "id": "72060a41",
   "metadata": {},
   "outputs": [],
   "source": "# ============================================\n# 4. 에이전트 팀 구성 및 실행\n# ============================================\n\n# RoundRobinGroupChat으로 에이전트 팀 생성\n# - participants: 참여할 에이전트 목록 (순서대로 실행됨)\n#   1) ClarityAgent → 2) ToneAgent → 3) PersuasionAgent \n#   → 4) SynthesizerAgent → 5) CriticAgent → (다시 1번부터 반복)\n# - termination_condition: 대화 종료 조건\nteam = RoundRobinGroupChat(\n    participants=[\n        clarity_agent,      # 1단계: 명확성 개선\n        tone_agent,         # 2단계: 톤 조정\n        persuasion_agent,   # 3단계: 설득력 향상\n        synthesizer_agent,  # 4단계: 통합 및 초안 작성\n        critic_agent,       # 5단계: 품질 평가 및 승인/거부\n    ],\n    termination_condition=termination_condition,\n)\n\n# 팀 실행 및 결과 출력\n# - task: 최적화할 이메일 초안 입력\n# - run_stream(): 대화를 스트리밍 방식으로 실행\n# - Console(): 실시간으로 각 에이전트의 응답을 콘솔에 출력\n# - await: 비동기 실행 (Jupyter 노트북에서 필요)\nawait Console(\n    team.run_stream(\n        task=\"Hi! Im hungry, buy me lunch and invest in my business. Thanks.\"\n        # 👆 여기에 개선하고 싶은 이메일 내용을 입력하세요\n    )\n)"
  }
 ],
 "metadata": {
  "kernelspec": {
   "display_name": "deep-research-clone",
   "language": "python",
   "name": "python3"
  },
  "language_info": {
   "codemirror_mode": {
    "name": "ipython",
    "version": 3
   },
   "file_extension": ".py",
   "mimetype": "text/x-python",
   "name": "python",
   "nbconvert_exporter": "python",
   "pygments_lexer": "ipython3",
   "version": "3.13.7"
  }
 },
 "nbformat": 4,
 "nbformat_minor": 5
}